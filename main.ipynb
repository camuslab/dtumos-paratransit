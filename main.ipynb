{
 "cells": [
  {
   "cell_type": "markdown",
   "metadata": {},
   "source": [
    "---\n",
    "### **Seoul Simulation**"
   ]
  },
  {
   "cell_type": "markdown",
   "metadata": {},
   "source": [
    "- **library**"
   ]
  },
  {
   "cell_type": "code",
   "execution_count": null,
   "metadata": {},
   "outputs": [],
   "source": [
    "from module.simulator import Simulator\n",
    "from module.simulator_helper import get_preprocessed_seoul_data, base_configs\n",
    "import pandas as pd\n",
    "import warnings \n",
    "warnings.filterwarnings('ignore')"
   ]
  },
  {
   "cell_type": "markdown",
   "metadata": {},
   "source": [
    "- **simulation configs**"
   ]
  },
  {
   "cell_type": "code",
   "execution_count": null,
   "metadata": {},
   "outputs": [],
   "source": [
    "simul_configs = base_configs\n",
    "simul_configs['additional_path'] = 'scenario_base'\n",
    "simul_configs['dispatch_mode'] = 'in_order'"
   ]
  },
  {
   "cell_type": "markdown",
   "metadata": {},
   "source": [
    "- **Run simulation**"
   ]
  },
  {
   "cell_type": "code",
   "execution_count": null,
   "metadata": {},
   "outputs": [],
   "source": [
    "### Load passenger_data and vehicle_data\n",
    "passengers = pd.read_csv('./data/agents/passenger/passenger_data.csv')\n",
    "vehicles = pd.read_csv('./data/agents/vehicle/vehicle_data.csv')\n",
    "passengers, vehicles = get_preprocessed_seoul_data(passengers, vehicles)"
   ]
  },
  {
   "cell_type": "code",
   "execution_count": null,
   "metadata": {},
   "outputs": [],
   "source": [
    "### Simulate\n",
    "scene_1 = Simulator(passengers=passengers, vehicles=vehicles, configs=simul_configs)\n",
    "scene_1.run()"
   ]
  },
  {
   "cell_type": "markdown",
   "metadata": {},
   "source": [
    "---"
   ]
  },
  {
   "cell_type": "markdown",
   "metadata": {},
   "source": [
    "- **Generate generate configuraions for simulation**"
   ]
  },
  {
   "cell_type": "code",
   "execution_count": null,
   "metadata": {},
   "outputs": [],
   "source": [
    "from module.simulator_helper import generate_simulation_result_json\n",
    "import os\n",
    "\n",
    "passengers = pd.read_json(os.path.join(simul_configs['save_path'], 'passenger_marker.json'))\n",
    "trip = pd.read_json(os.path.join(simul_configs['save_path'], 'trip.json'))\n",
    "records = pd.read_csv(os.path.join(simul_configs['save_path'], 'record.csv'))\n",
    "\n",
    "results = generate_simulation_result_json(passengers, trip, records)\n",
    "results.to_json(os.path.join(simul_configs['save_path'], 'result.json'), orient='records')"
   ]
  },
  {
   "cell_type": "markdown",
   "metadata": {},
   "source": [
    "- **Generate figures and configurations for dashboard**"
   ]
  },
  {
   "cell_type": "code",
   "execution_count": 1,
   "metadata": {},
   "outputs": [],
   "source": [
    "from module.dashboard import dashboard_config\n",
    "from module.dashboard import generate_dashboard_materials"
   ]
  },
  {
   "cell_type": "code",
   "execution_count": 2,
   "metadata": {},
   "outputs": [],
   "source": [
    "generate_dashboard_materials(dashboard_config)"
   ]
  }
 ],
 "metadata": {
  "kernelspec": {
   "display_name": "DTUMOS",
   "language": "python",
   "name": "python3"
  },
  "language_info": {
   "codemirror_mode": {
    "name": "ipython",
    "version": 3
   },
   "file_extension": ".py",
   "mimetype": "text/x-python",
   "name": "python",
   "nbconvert_exporter": "python",
   "pygments_lexer": "ipython3",
   "version": "3.8.20"
  }
 },
 "nbformat": 4,
 "nbformat_minor": 2
}
